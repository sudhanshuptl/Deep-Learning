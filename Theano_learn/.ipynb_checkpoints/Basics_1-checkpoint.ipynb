{
 "metadata": {
  "name": "",
  "signature": "sha256:a3769a8d17d69619ec4a42f464ae366997fc0391ce4deb4523bcb3abc9e55ec3"
 },
 "nbformat": 3,
 "nbformat_minor": 0,
 "worksheets": []
}